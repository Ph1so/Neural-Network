{
  "cells": [
    {
      "cell_type": "markdown",
      "metadata": {
        "id": "view-in-github",
        "colab_type": "text"
      },
      "source": [
        "<a href=\"https://colab.research.google.com/github/Ph1so/neural-network/blob/main/Neural_Network_Phi_Nguyen.ipynb\" target=\"_parent\"><img src=\"https://colab.research.google.com/assets/colab-badge.svg\" alt=\"Open In Colab\"/></a>"
      ]
    },
    {
      "cell_type": "code",
      "execution_count": null,
      "metadata": {
        "id": "DLkDcLrq5bf4"
      },
      "outputs": [],
      "source": [
        "!pip install -q kaggle"
      ]
    },
    {
      "cell_type": "code",
      "source": [
        "from google.colab import files #upload kaggle token - make account on kaggle and go to your settings to download token\n",
        "files.upload()"
      ],
      "metadata": {
        "id": "7TQDQUziami2"
      },
      "execution_count": null,
      "outputs": []
    },
    {
      "cell_type": "code",
      "execution_count": null,
      "metadata": {
        "id": "DLJMeSZu6GQt"
      },
      "outputs": [],
      "source": [
        "! mkdir ~/.kaggle"
      ]
    },
    {
      "cell_type": "code",
      "execution_count": null,
      "metadata": {
        "id": "3EWZDoSH6dmc"
      },
      "outputs": [],
      "source": [
        "! cp kaggle.json ~/.kaggle/"
      ]
    },
    {
      "cell_type": "code",
      "execution_count": null,
      "metadata": {
        "id": "cO1hTayV6e-6"
      },
      "outputs": [],
      "source": [
        "! chmod 600 ~/.kaggle/kaggle.json"
      ]
    },
    {
      "cell_type": "code",
      "execution_count": null,
      "metadata": {
        "colab": {
          "base_uri": "https://localhost:8080/"
        },
        "id": "j8ilWb3H6gy4",
        "outputId": "417ed933-6b58-469b-d295-dfa7b55b1fc4"
      },
      "outputs": [
        {
          "output_type": "stream",
          "name": "stdout",
          "text": [
            "Warning: Looks like you're using an outdated API Version, please consider updating (server 1.6.7 / client 1.5.16)\n",
            "ref                                                         title                                           size  lastUpdated          downloadCount  voteCount  usabilityRating  \n",
            "----------------------------------------------------------  ---------------------------------------------  -----  -------------------  -------------  ---------  ---------------  \n",
            "sudarshan24byte/online-food-dataset                         Online Food Dataset                              3KB  2024-03-02 18:50:30          19877        400  0.9411765        \n",
            "mexwell/drug-consumption-classification                     💊 Drug Consumption Classification               56KB  2024-03-28 15:02:22           1692         35  1.0              \n",
            "m1relly/heart-attack-prediction                             Heart Attack Prediction                        519KB  2024-04-01 18:17:52            972         24  1.0              \n",
            "jatinthakur706/most-watched-netflix-original-shows-tv-time  Most watched Netflix original shows (TV Time)    2KB  2024-03-27 09:01:21           1978         31  1.0              \n",
            "bhavikjikadara/student-study-performance                    Student Study Performance                        9KB  2024-03-07 06:14:09           9963        138  1.0              \n",
            "sahirmaharajj/electric-vehicle-population-size-2024         Electric Vehicle Population by Country (2024)  275KB  2024-03-30 19:16:06           1273         35  1.0              \n",
            "syedanwarafridi/vehicle-sales-data                          Vehicle Sales Data                              19MB  2024-02-21 20:16:17          25435        398  1.0              \n",
            "divu2001/coffee-shop-sales-analysis                         Coffee Shop Sales Analysis                       2MB  2024-03-30 10:57:57           1715         35  1.0              \n",
            "ikjotsingh221/obesity-risk-prediction-cleaned               Obesity Risk Prediction Cleaned                 64KB  2024-04-03 13:42:24            417         27  1.0              \n",
            "abhinavshaw09/food-prices-in-india                          Food Prices In India                             2MB  2024-03-16 17:51:57           1331         27  1.0              \n",
            "aryanverma99/grocery-prices-data-explore-shopping-trends    Grocery Prices Data: Explore Shopping Trends    28KB  2024-04-02 07:04:33            848         23  1.0              \n",
            "sazidthe1/global-electricity-production                     Electricity Production Dataset                   1MB  2024-03-24 09:25:46            918         23  1.0              \n",
            "lovishbansal123/sales-of-a-supermarket                      Sales of a Supermarket                          36KB  2024-03-26 12:38:06           2676         43  1.0              \n",
            "shubhamoujlayan/all-the-unicorns-in-the-world               All the UNICORNS in the World                   22KB  2024-04-03 16:32:21            351         21  1.0              \n",
            "saurabhbadole/walmart-super-market-dataset                  Walmart - Super Market Dataset                   4MB  2024-03-28 19:31:48           1036         22  0.9411765        \n",
            "joekd6/imdb-top250-movies                                   IMDb Top250 Movies                              40KB  2024-03-31 13:53:06            816         22  0.8235294        \n",
            "sukhmandeepsinghbrar/heart-attack-dataset                   Heart Attack Dataset                            16KB  2024-03-30 05:14:35           1553         26  1.0              \n",
            "nbroad/gemma-rewrite-nbroad                                 gemma-rewrite-nbroad                             8MB  2024-03-03 04:52:39           1310         90  1.0              \n",
            "kanchana1990/un-global-water-data-2012-2022                 UN Global Water Data 2012-2022                 430KB  2024-03-31 08:03:55            705         32  1.0              \n",
            "sakshisatre/titanic-dataset                                 Titanic Dataset                                 32KB  2024-03-27 17:50:39            538         28  1.0              \n"
          ]
        }
      ],
      "source": [
        "! kaggle datasets list"
      ]
    },
    {
      "cell_type": "code",
      "execution_count": null,
      "metadata": {
        "colab": {
          "base_uri": "https://localhost:8080/"
        },
        "id": "x5M3Y5A86iBU",
        "outputId": "aa14305a-86a4-4a0c-bc04-0b93d0c3a8ba"
      },
      "outputs": [
        {
          "output_type": "stream",
          "name": "stdout",
          "text": [
            "Downloading digit-recognizer.zip to /content\n",
            " 78% 12.0M/15.3M [00:00<00:00, 61.2MB/s]\n",
            "100% 15.3M/15.3M [00:00<00:00, 55.9MB/s]\n"
          ]
        }
      ],
      "source": [
        "!kaggle competitions download -c digit-recognizer"
      ]
    },
    {
      "cell_type": "code",
      "execution_count": null,
      "metadata": {
        "colab": {
          "base_uri": "https://localhost:8080/"
        },
        "id": "8aAapyAk6mHu",
        "outputId": "9002fd20-e090-472b-a10b-6905ea3490fe"
      },
      "outputs": [
        {
          "output_type": "stream",
          "name": "stdout",
          "text": [
            "Archive:  digit-recognizer.zip\n",
            "  inflating: sample_submission.csv   \n",
            "  inflating: test.csv                \n",
            "  inflating: train.csv               \n"
          ]
        }
      ],
      "source": [
        "!unzip digit-recognizer.zip"
      ]
    },
    {
      "cell_type": "code",
      "execution_count": null,
      "metadata": {
        "id": "e6yf_rce6rTB"
      },
      "outputs": [],
      "source": [
        "import numpy as np\n",
        "import math\n",
        "from matplotlib import pyplot as plt\n",
        "import pandas as pd"
      ]
    },
    {
      "cell_type": "code",
      "execution_count": null,
      "metadata": {
        "id": "2UFy7Xuo6uP6"
      },
      "outputs": [],
      "source": [
        "data = pd.read_csv('train.csv')"
      ]
    },
    {
      "cell_type": "code",
      "execution_count": null,
      "metadata": {
        "id": "PiBJBMAw7PAk"
      },
      "outputs": [],
      "source": [
        "data = np.array(data)\n",
        "m, n = data.shape\n",
        "np.random.shuffle(data)\n",
        "\n",
        "data_dev = data[0:1000].T\n",
        "Y_dev = data_dev[0]\n",
        "X_dev = data_dev[1:n]\n",
        "X_dev = X_dev / 255.\n",
        "\n",
        "data_train = data[1000:m].T\n",
        "Y_train = data_train[0]\n",
        "X_train = data_train[1:n]\n",
        "X_train = X_train / 255.\n",
        "_,m_train = X_train.shape"
      ]
    },
    {
      "cell_type": "code",
      "execution_count": null,
      "metadata": {
        "id": "fzAi01X77bfA"
      },
      "outputs": [],
      "source": [
        "def init_params():\n",
        "    W1 = np.random.rand(10, 784) - 0.5\n",
        "    b1 = np.random.rand(10, 1) - 0.5\n",
        "    W2 = np.random.rand(10, 10) - 0.5\n",
        "    b2 = np.random.rand(10, 1) - 0.5\n",
        "    return W1, b1, W2, b2\n",
        "\n",
        "def ReLU(Z):\n",
        "    return np.maximum(Z, 0)\n",
        "\n",
        "def softmax(Z):\n",
        "    A = np.exp(Z) / sum(np.exp(Z))\n",
        "    return A\n",
        "\n",
        "def forward_prop(W1, b1, W2, b2, X):\n",
        "    Z1 = W1.dot(X) + b1\n",
        "    A1 = ReLU(Z1)\n",
        "    Z2 = W2.dot(A1) + b2\n",
        "    A2 = softmax(Z2)\n",
        "    return Z1, A1, Z2, A2\n",
        "\n",
        "def ReLU_deriv(Z):\n",
        "    return Z > 0\n",
        "\n",
        "def one_hot(Y):\n",
        "    one_hot_Y = np.zeros((Y.size, Y.max() + 1))\n",
        "    one_hot_Y[np.arange(Y.size), Y] = 1\n",
        "    one_hot_Y = one_hot_Y.T\n",
        "    return one_hot_Y\n",
        "\n",
        "def backward_prop(Z1, A1, Z2, A2, W1, W2, X, Y):\n",
        "    one_hot_Y = one_hot(Y)\n",
        "    dZ2 = A2 - one_hot_Y\n",
        "    dW2 = 1 / m * dZ2.dot(A1.T)\n",
        "    db2 = 1 / m * np.sum(dZ2)\n",
        "    dZ1 = W2.T.dot(dZ2) * ReLU_deriv(Z1)\n",
        "    dW1 = 1 / m * dZ1.dot(X.T)\n",
        "    db1 = 1 / m * np.sum(dZ1)\n",
        "    return dW1, db1, dW2, db2\n",
        "\n",
        "def update_params(W1, b1, W2, b2, dW1, db1, dW2, db2, alpha):\n",
        "    W1 = W1 - alpha * dW1\n",
        "    b1 = b1 - alpha * db1\n",
        "    W2 = W2 - alpha * dW2\n",
        "    b2 = b2 - alpha * db2\n",
        "    return W1, b1, W2, b2"
      ]
    },
    {
      "cell_type": "code",
      "execution_count": null,
      "metadata": {
        "id": "bzqelJuJ8f9C"
      },
      "outputs": [],
      "source": [
        "def get_predictions(A2):\n",
        "    return np.argmax(A2, 0)\n",
        "\n",
        "def get_accuracy(predictions, Y):\n",
        "    print(predictions, Y)\n",
        "    return np.sum(predictions == Y) / Y.size\n",
        "\n",
        "def gradient_descent(X, Y, alpha, iterations):\n",
        "    W1, b1, W2, b2 = init_params()\n",
        "    for i in range(iterations):\n",
        "        Z1, A1, Z2, A2 = forward_prop(W1, b1, W2, b2, X)\n",
        "        dW1, db1, dW2, db2 = backward_prop(Z1, A1, Z2, A2, W1, W2, X, Y)\n",
        "        W1, b1, W2, b2 = update_params(W1, b1, W2, b2, dW1, db1, dW2, db2, alpha)\n",
        "        if i % 10 == 0:\n",
        "            print(\"Iteration: \", i)\n",
        "            predictions = get_predictions(A2)\n",
        "            print(get_accuracy(predictions, Y))\n",
        "    return W1, b1, W2, b2"
      ]
    },
    {
      "cell_type": "code",
      "execution_count": null,
      "metadata": {
        "id": "i9lRGBsm8ldn",
        "colab": {
          "base_uri": "https://localhost:8080/"
        },
        "outputId": "69447bd0-6704-47c2-8763-3a8a379086e0"
      },
      "outputs": [
        {
          "output_type": "stream",
          "name": "stdout",
          "text": [
            "Iteration:  0\n",
            "[8 5 5 ... 5 5 1] [5 3 4 ... 3 9 0]\n",
            "0.10685365853658536\n",
            "Iteration:  10\n",
            "[3 8 5 ... 1 5 1] [5 3 4 ... 3 9 0]\n",
            "0.15058536585365853\n",
            "Iteration:  20\n",
            "[3 0 5 ... 1 5 1] [5 3 4 ... 3 9 0]\n",
            "0.20346341463414633\n",
            "Iteration:  30\n",
            "[3 0 7 ... 1 5 3] [5 3 4 ... 3 9 0]\n",
            "0.2735365853658537\n",
            "Iteration:  40\n",
            "[3 0 7 ... 3 5 0] [5 3 4 ... 3 9 0]\n",
            "0.3085609756097561\n",
            "Iteration:  50\n",
            "[3 0 7 ... 3 5 0] [5 3 4 ... 3 9 0]\n",
            "0.32570731707317074\n",
            "Iteration:  60\n",
            "[2 0 7 ... 3 5 0] [5 3 4 ... 3 9 0]\n",
            "0.3471463414634146\n",
            "Iteration:  70\n",
            "[2 0 7 ... 3 5 0] [5 3 4 ... 3 9 0]\n",
            "0.3736829268292683\n",
            "Iteration:  80\n",
            "[2 0 7 ... 3 5 0] [5 3 4 ... 3 9 0]\n",
            "0.40295121951219515\n",
            "Iteration:  90\n",
            "[8 0 7 ... 3 5 0] [5 3 4 ... 3 9 0]\n",
            "0.4398048780487805\n",
            "Iteration:  100\n",
            "[8 0 7 ... 3 5 0] [5 3 4 ... 3 9 0]\n",
            "0.47560975609756095\n",
            "Iteration:  110\n",
            "[8 5 7 ... 2 5 0] [5 3 4 ... 3 9 0]\n",
            "0.5157804878048781\n",
            "Iteration:  120\n",
            "[8 5 7 ... 2 5 0] [5 3 4 ... 3 9 0]\n",
            "0.5541951219512196\n",
            "Iteration:  130\n",
            "[8 5 7 ... 2 9 0] [5 3 4 ... 3 9 0]\n",
            "0.5865121951219512\n",
            "Iteration:  140\n",
            "[8 5 7 ... 2 9 0] [5 3 4 ... 3 9 0]\n",
            "0.6134878048780488\n",
            "Iteration:  150\n",
            "[8 5 7 ... 2 9 0] [5 3 4 ... 3 9 0]\n",
            "0.6367804878048781\n",
            "Iteration:  160\n",
            "[8 5 7 ... 2 9 0] [5 3 4 ... 3 9 0]\n",
            "0.6556341463414634\n",
            "Iteration:  170\n",
            "[8 5 7 ... 2 9 0] [5 3 4 ... 3 9 0]\n",
            "0.6727317073170732\n",
            "Iteration:  180\n",
            "[5 5 7 ... 2 9 0] [5 3 4 ... 3 9 0]\n",
            "0.687219512195122\n",
            "Iteration:  190\n",
            "[5 5 4 ... 2 9 0] [5 3 4 ... 3 9 0]\n",
            "0.7018292682926829\n",
            "Iteration:  200\n",
            "[5 5 4 ... 2 9 0] [5 3 4 ... 3 9 0]\n",
            "0.7140243902439024\n",
            "Iteration:  210\n",
            "[5 5 4 ... 2 9 0] [5 3 4 ... 3 9 0]\n",
            "0.725780487804878\n",
            "Iteration:  220\n",
            "[5 5 4 ... 2 9 0] [5 3 4 ... 3 9 0]\n",
            "0.7363658536585366\n",
            "Iteration:  230\n",
            "[5 5 4 ... 2 9 0] [5 3 4 ... 3 9 0]\n",
            "0.7450243902439024\n",
            "Iteration:  240\n",
            "[5 5 4 ... 2 9 0] [5 3 4 ... 3 9 0]\n",
            "0.7533170731707317\n",
            "Iteration:  250\n",
            "[5 5 4 ... 2 9 0] [5 3 4 ... 3 9 0]\n",
            "0.7609512195121951\n",
            "Iteration:  260\n",
            "[5 5 4 ... 2 9 0] [5 3 4 ... 3 9 0]\n",
            "0.7672926829268293\n",
            "Iteration:  270\n",
            "[5 5 4 ... 2 9 0] [5 3 4 ... 3 9 0]\n",
            "0.7734390243902439\n",
            "Iteration:  280\n",
            "[5 5 4 ... 2 9 0] [5 3 4 ... 3 9 0]\n",
            "0.7784634146341464\n",
            "Iteration:  290\n",
            "[5 5 4 ... 2 9 0] [5 3 4 ... 3 9 0]\n",
            "0.7834878048780488\n",
            "Iteration:  300\n",
            "[5 5 4 ... 2 9 0] [5 3 4 ... 3 9 0]\n",
            "0.7883170731707317\n",
            "Iteration:  310\n",
            "[5 5 4 ... 2 9 0] [5 3 4 ... 3 9 0]\n",
            "0.792219512195122\n",
            "Iteration:  320\n",
            "[5 5 4 ... 2 9 0] [5 3 4 ... 3 9 0]\n",
            "0.7958048780487805\n",
            "Iteration:  330\n",
            "[5 5 4 ... 2 9 0] [5 3 4 ... 3 9 0]\n",
            "0.8001463414634147\n",
            "Iteration:  340\n",
            "[5 5 4 ... 2 9 0] [5 3 4 ... 3 9 0]\n",
            "0.8036829268292683\n",
            "Iteration:  350\n",
            "[5 5 4 ... 2 9 0] [5 3 4 ... 3 9 0]\n",
            "0.8072926829268293\n",
            "Iteration:  360\n",
            "[5 5 4 ... 2 9 0] [5 3 4 ... 3 9 0]\n",
            "0.8102439024390244\n",
            "Iteration:  370\n",
            "[5 5 4 ... 2 9 0] [5 3 4 ... 3 9 0]\n",
            "0.8127560975609756\n",
            "Iteration:  380\n",
            "[5 5 4 ... 2 9 0] [5 3 4 ... 3 9 0]\n",
            "0.8152682926829268\n",
            "Iteration:  390\n",
            "[5 5 4 ... 2 9 0] [5 3 4 ... 3 9 0]\n",
            "0.817780487804878\n",
            "Iteration:  400\n",
            "[5 5 4 ... 2 9 0] [5 3 4 ... 3 9 0]\n",
            "0.8201463414634146\n",
            "Iteration:  410\n",
            "[5 5 4 ... 2 9 0] [5 3 4 ... 3 9 0]\n",
            "0.8223414634146341\n",
            "Iteration:  420\n",
            "[5 5 4 ... 2 9 0] [5 3 4 ... 3 9 0]\n",
            "0.8243170731707317\n",
            "Iteration:  430\n",
            "[5 5 4 ... 2 9 0] [5 3 4 ... 3 9 0]\n",
            "0.8262439024390243\n",
            "Iteration:  440\n",
            "[5 5 4 ... 2 9 0] [5 3 4 ... 3 9 0]\n",
            "0.8277560975609756\n",
            "Iteration:  450\n",
            "[5 5 4 ... 2 9 0] [5 3 4 ... 3 9 0]\n",
            "0.8295365853658536\n",
            "Iteration:  460\n",
            "[5 5 4 ... 2 9 0] [5 3 4 ... 3 9 0]\n",
            "0.831170731707317\n",
            "Iteration:  470\n",
            "[5 5 4 ... 2 9 0] [5 3 4 ... 3 9 0]\n",
            "0.8325609756097561\n",
            "Iteration:  480\n",
            "[5 5 4 ... 2 9 0] [5 3 4 ... 3 9 0]\n",
            "0.8343170731707317\n",
            "Iteration:  490\n",
            "[5 5 4 ... 2 9 0] [5 3 4 ... 3 9 0]\n",
            "0.8356097560975609\n"
          ]
        }
      ],
      "source": [
        "W1, b1, W2, b2 = gradient_descent(X_train, Y_train, 0.10, 500)"
      ]
    },
    {
      "cell_type": "code",
      "execution_count": null,
      "metadata": {
        "id": "EBwTncf19oso"
      },
      "outputs": [],
      "source": [
        "def make_predictions(X, W1, b1, W2, b2):\n",
        "    _, _, _, A2 = forward_prop(W1, b1, W2, b2, X)\n",
        "    predictions = get_predictions(A2)\n",
        "    return predictions\n",
        "\n",
        "def test_prediction(index, W1, b1, W2, b2):\n",
        "    current_image = X_train[:, index, None]\n",
        "    prediction = make_predictions(X_train[:, index, None], W1, b1, W2, b2)\n",
        "    label = Y_train[index]\n",
        "\n",
        "\n",
        "    print(\"Prediction: \", prediction)\n",
        "    print(\"Label: \", label)\n",
        "\n",
        "    current_image = current_image.reshape((28, 28)) * 255\n",
        "    plt.gray()\n",
        "    plt.imshow(current_image, interpolation='nearest')\n",
        "    plt.show()\n",
        "\n"
      ]
    },
    {
      "cell_type": "code",
      "execution_count": null,
      "metadata": {
        "id": "Kf5LNPUK9yjL",
        "colab": {
          "base_uri": "https://localhost:8080/",
          "height": 1000
        },
        "outputId": "61cef3be-fb07-4a20-9384-792ef3aff4af"
      },
      "outputs": [
        {
          "output_type": "stream",
          "name": "stdout",
          "text": [
            "Prediction:  [4]\n",
            "Label:  4\n"
          ]
        },
        {
          "output_type": "display_data",
          "data": {
            "text/plain": [
              "<Figure size 640x480 with 1 Axes>"
            ],
            "image/png": "[encoded data removed]"
          },
          "metadata": {}
        },
        {
          "output_type": "stream",
          "name": "stdout",
          "text": [
            "None\n",
            "Prediction:  [7]\n",
            "Label:  7\n"
          ]
        },
        {
          "output_type": "display_data",
          "data": {
            "text/plain": [
              "<Figure size 640x480 with 1 Axes>"
            ],
            "image/png": "[encoded data removed]"
          },
          "metadata": {}
        },
        {
          "output_type": "stream",
          "name": "stdout",
          "text": [
            "None\n",
            "Prediction:  [8]\n",
            "Label:  3\n"
          ]
        },
        {
          "output_type": "display_data",
          "data": {
            "text/plain": [
              "<Figure size 640x480 with 1 Axes>"
            ],
            "image/png": "[encoded data removed]"
          },
          "metadata": {}
        },
        {
          "output_type": "stream",
          "name": "stdout",
          "text": [
            "None\n",
            "Prediction:  [0]\n",
            "Label:  3\n"
          ]
        },
        {
          "output_type": "display_data",
          "data": {
            "text/plain": [
              "<Figure size 640x480 with 1 Axes>"
            ],
            "image/png": "[encoded data removed]"
          },
          "metadata": {}
        },
        {
          "output_type": "stream",
          "name": "stdout",
          "text": [
            "None\n"
          ]
        }
      ],
      "source": [
        "print(test_prediction(2, W1, b1, W2, b2))\n",
        "print(test_prediction(125, W1, b1, W2, b2))\n",
        "print(test_prediction(645, W1, b1, W2, b2))\n",
        "print(test_prediction(657, W1, b1, W2, b2))\n"
      ]
    }
  ],
  "metadata": {
    "colab": {
      "provenance": [],
      "authorship_tag": "ABX9TyN9eQarYNxnNLRo7Z9rtp67",
      "include_colab_link": true
    },
    "kernelspec": {
      "display_name": "Python 3",
      "name": "python3"
    },
    "language_info": {
      "name": "python"
    }
  },
  "nbformat": 4,
  "nbformat_minor": 0
}